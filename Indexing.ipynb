{
 "cells": [
  {
   "cell_type": "markdown",
   "id": "67bca70b",
   "metadata": {},
   "source": [
    "### Indexing in Numpy Array"
   ]
  },
  {
   "cell_type": "code",
   "execution_count": null,
   "id": "293df546",
   "metadata": {},
   "outputs": [],
   "source": []
  }
 ],
 "metadata": {
  "language_info": {
   "name": "python"
  }
 },
 "nbformat": 4,
 "nbformat_minor": 5
}
