{
 "cells": [
  {
   "cell_type": "markdown",
   "id": "67bca70b",
   "metadata": {},
   "source": [
    "### Indexing in Numpy Array"
   ]
  },
  {
   "cell_type": "code",
   "execution_count": 12,
   "id": "489db112",
   "metadata": {},
   "outputs": [],
   "source": [
    "import numpy as np"
   ]
  },
  {
   "cell_type": "code",
   "execution_count": null,
   "id": "2dfed0b6",
   "metadata": {},
   "outputs": [
    {
     "name": "stdout",
     "output_type": "stream",
     "text": [
      "[[ 5  6  7  8  9]\n",
      " [10 11 12 13 14]]\n"
     ]
    }
   ],
   "source": [
    "arr=np.arange(15).reshape(3,5)\n",
    "arr\n",
    "print(arr[0,1:])"
   ]
  },
  {
   "cell_type": "code",
   "execution_count": null,
   "id": "293df546",
   "metadata": {},
   "outputs": [
    {
     "name": "stdout",
     "output_type": "stream",
     "text": [
      "[0 1 2 3 4 5 6 7 8 9]\n",
      "[1 2 3 4]\n"
     ]
    }
   ],
   "source": [
    "\n",
    "\n",
    "a=np.arange(10)\n",
    "print(a)\n",
    "s=slice(1,5)\n",
    "print(a[s])"
   ]
  },
  {
   "cell_type": "code",
   "execution_count": 24,
   "id": "bec3cb48",
   "metadata": {},
   "outputs": [
    {
     "name": "stdout",
     "output_type": "stream",
     "text": [
      "Age of Employees from index 1: [28 35 40]\n",
      "Salary of Employees from index 2: [50000 60000 55000 65000 70000]\n"
     ]
    }
   ],
   "source": [
    "import numpy as np\n",
    "employees = np.array([\n",
    "    [1, 25, 50000],  \n",
    "    [2, 30, 60000], \n",
    "    [3, 28, 55000], \n",
    "    [4, 35, 65000], \n",
    "    [5, 40, 70000]   \n",
    "])\n",
    "print(\"Age of Employees from index 1:\",employees[2:,1])\n",
    "print(\"Salary of Employees from index 2:\",employees[:,2])"
   ]
  },
  {
   "cell_type": "code",
   "execution_count": 40,
   "id": "83e71280",
   "metadata": {},
   "outputs": [
    {
     "name": "stdout",
     "output_type": "stream",
     "text": [
      "[[[ 0  1  2  3]\n",
      "  [ 4  5  6  7]]\n",
      "\n",
      " [[ 8  9 10 11]\n",
      "  [12 13 14 15]]\n",
      "\n",
      " [[16 17 18 19]\n",
      "  [20 21 22 23]]]\n",
      "Sub Array1 : [[1 2]\n",
      " [5 6]]\n",
      "Sub Array2 : [[ 4]\n",
      " [12]\n",
      " [20]]\n"
     ]
    }
   ],
   "source": [
    "arr2=np.arange(24).reshape(3,2,4)\n",
    "print(arr2)\n",
    "print(\"Sub Array1 :\",arr2[0,:,1:3])\n",
    "print(\"Sub Array2 :\",arr2[:,1,:1])\n"
   ]
  },
  {
   "cell_type": "code",
   "execution_count": null,
   "id": "d8f2b8e7",
   "metadata": {},
   "outputs": [],
   "source": []
  }
 ],
 "metadata": {
  "kernelspec": {
   "display_name": "base",
   "language": "python",
   "name": "python3"
  },
  "language_info": {
   "codemirror_mode": {
    "name": "ipython",
    "version": 3
   },
   "file_extension": ".py",
   "mimetype": "text/x-python",
   "name": "python",
   "nbconvert_exporter": "python",
   "pygments_lexer": "ipython3",
   "version": "3.12.7"
  }
 },
 "nbformat": 4,
 "nbformat_minor": 5
}
