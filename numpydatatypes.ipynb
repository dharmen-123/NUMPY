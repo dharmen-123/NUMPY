{
 "cells": [
  {
   "cell_type": "markdown",
   "id": "12b36c1e",
   "metadata": {},
   "source": [
    "## Data types in Numpy Array"
   ]
  },
  {
   "cell_type": "code",
   "execution_count": 1,
   "id": "dafd93df",
   "metadata": {},
   "outputs": [],
   "source": [
    "import numpy as np "
   ]
  },
  {
   "cell_type": "code",
   "execution_count": 2,
   "id": "9314bc53",
   "metadata": {},
   "outputs": [
    {
     "name": "stdout",
     "output_type": "stream",
     "text": [
      "Data Type :  int64\n"
     ]
    }
   ],
   "source": [
    "x=np.array([2,4,6,8])\n",
    "print(\"Data Type : \",x.dtype)"
   ]
  },
  {
   "cell_type": "code",
   "execution_count": null,
   "id": "7a8aa7ac",
   "metadata": {},
   "outputs": [
    {
     "name": "stdout",
     "output_type": "stream",
     "text": [
      "[2 4 6 8]\n",
      "28.9 ns ± 1.32 ns per loop (mean ± std. dev. of 7 runs, 10,000,000 loops each)\n",
      "Data Type :  int64\n"
     ]
    }
   ],
   "source": [
    "x1=np.array([2,4,6,8],dtype=np.int64)\n",
    "print(x1)\n",
    "%timeit (x1)\n",
    "print(\"Data Type : \",x1.dtype)"
   ]
  },
  {
   "cell_type": "code",
   "execution_count": 9,
   "id": "906b62cb",
   "metadata": {},
   "outputs": [
    {
     "name": "stdout",
     "output_type": "stream",
     "text": [
      "[ 2.  4.  6.  8. 10.]\n",
      "[ 2  4  6  8 10]\n",
      "Data Type :  float32\n",
      "Data Type :  int64\n"
     ]
    }
   ],
   "source": [
    "x2=np.array([2,4,6,8,10],dtype=\"f\")\n",
    "y2=np.int64(x2)\n",
    "print(x2)\n",
    "print(y2)\n",
    "print(\"Data Type : \",x2.dtype)\n",
    "print(\"Data Type : \",y2.dtype)"
   ]
  },
  {
   "cell_type": "code",
   "execution_count": 21,
   "id": "f9b64296",
   "metadata": {},
   "outputs": [
    {
     "name": "stdout",
     "output_type": "stream",
     "text": [
      "[1 2 3 4 5 6]\n",
      "Data type :  timedelta64\n"
     ]
    }
   ],
   "source": [
    "x3=np.array([1,2,3,4,5,6],dtype=\"m\")\n",
    "print(x3)\n",
    "print(\"Data type : \",x3.dtype)"
   ]
  },
  {
   "cell_type": "code",
   "execution_count": 23,
   "id": "80ccb421",
   "metadata": {},
   "outputs": [
    {
     "name": "stdout",
     "output_type": "stream",
     "text": [
      "[1 2 3 4 5 6]\n",
      "object\n",
      "['1' '2' '3' '4' '5' '6']\n",
      "<U1\n"
     ]
    }
   ],
   "source": [
    "x4=x3.astype(\"O\")\n",
    "print(x4)\n",
    "print(x4.dtype)\n",
    "x5=x4.astype(\"U\")\n",
    "print(x5)\n",
    "print(x5.dtype)"
   ]
  },
  {
   "cell_type": "code",
   "execution_count": null,
   "id": "615d8eb7",
   "metadata": {},
   "outputs": [],
   "source": []
  }
 ],
 "metadata": {
  "kernelspec": {
   "display_name": "base",
   "language": "python",
   "name": "python3"
  },
  "language_info": {
   "codemirror_mode": {
    "name": "ipython",
    "version": 3
   },
   "file_extension": ".py",
   "mimetype": "text/x-python",
   "name": "python",
   "nbconvert_exporter": "python",
   "pygments_lexer": "ipython3",
   "version": "3.12.7"
  }
 },
 "nbformat": 4,
 "nbformat_minor": 5
}
