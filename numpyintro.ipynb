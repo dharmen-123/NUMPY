{
 "cells": [
  {
   "cell_type": "code",
   "execution_count": 1,
   "id": "102061b1",
   "metadata": {},
   "outputs": [
    {
     "name": "stdout",
     "output_type": "stream",
     "text": [
      "numpy\n"
     ]
    }
   ],
   "source": [
    "import numpy as np \n",
    "print(\"numpy\")"
   ]
  },
  {
   "cell_type": "code",
   "execution_count": 2,
   "id": "81189747",
   "metadata": {},
   "outputs": [
    {
     "name": "stdout",
     "output_type": "stream",
     "text": [
      "<class 'numpy.ndarray'>\n"
     ]
    }
   ],
   "source": [
    "x=np.array([2,3,4,5])\n",
    "print(type(x))"
   ]
  },
  {
   "cell_type": "markdown",
   "id": "aed27e9f",
   "metadata": {},
   "source": [
    "### Execution time of List and Array in Python"
   ]
  },
  {
   "cell_type": "code",
   "execution_count": 6,
   "id": "a2045260",
   "metadata": {},
   "outputs": [
    {
     "name": "stdout",
     "output_type": "stream",
     "text": [
      "510 ns ± 3.92 ns per loop (mean ± std. dev. of 7 runs, 1,000,000 loops each)\n"
     ]
    }
   ],
   "source": [
    "## LIST\n",
    "%timeit [j**4 for j in range(1,9)]"
   ]
  },
  {
   "cell_type": "code",
   "execution_count": 7,
   "id": "cd6bf2df",
   "metadata": {},
   "outputs": [
    {
     "name": "stdout",
     "output_type": "stream",
     "text": [
      "1.36 μs ± 6.61 ns per loop (mean ± std. dev. of 7 runs, 1,000,000 loops each)\n"
     ]
    }
   ],
   "source": [
    "import numpy as np\n",
    "%timeit np.arange(1,9)**4"
   ]
  },
  {
   "cell_type": "markdown",
   "id": "47885a9d",
   "metadata": {},
   "source": [
    "## Dimensions in Arrays"
   ]
  },
  {
   "cell_type": "code",
   "execution_count": 14,
   "id": "040cd9d8",
   "metadata": {},
   "outputs": [
    {
     "name": "stdout",
     "output_type": "stream",
     "text": [
      "[1 2 3 4]\n",
      "Dimensions of array : 1\n"
     ]
    }
   ],
   "source": [
    "## 1-D Array\n",
    "ar1=np.array([1,2,3,4])\n",
    "print(ar1)\n",
    "print(\"Dimensions of array :\",ar1.ndim)"
   ]
  },
  {
   "cell_type": "code",
   "execution_count": 15,
   "id": "bc1c5231",
   "metadata": {},
   "outputs": [
    {
     "name": "stdout",
     "output_type": "stream",
     "text": [
      "[[1 3 5]\n",
      " [2 4 6]]\n",
      "Dimensions of array : 2\n"
     ]
    }
   ],
   "source": [
    "## 2-D Array\n",
    "ar2=np.array([[1,3,5],[2,4,6]])\n",
    "print(ar2)\n",
    "print(\"Dimensions of array :\",ar2.ndim)"
   ]
  },
  {
   "cell_type": "code",
   "execution_count": 17,
   "id": "78299ad5",
   "metadata": {},
   "outputs": [
    {
     "name": "stdout",
     "output_type": "stream",
     "text": [
      "[[[ 1  3  5  4]\n",
      "  [ 2  4  6  8]\n",
      "  [ 8  9 10 12]]]\n",
      "Dimensions of array : 3\n"
     ]
    }
   ],
   "source": [
    "ar3=np.array([[[1,3,5,4],[2,4,6,8],[8,9,10,12]]])\n",
    "print(ar3)\n",
    "print(\"Dimensions of array :\",ar3.ndim)"
   ]
  },
  {
   "cell_type": "code",
   "execution_count": 19,
   "id": "c38c97da",
   "metadata": {},
   "outputs": [
    {
     "name": "stdout",
     "output_type": "stream",
     "text": [
      "[[[[[[[[2 4 6 8]]]]]]]]\n",
      "Dimensions of the Array : 8\n"
     ]
    }
   ],
   "source": [
    "## N-D Arrays\n",
    "ar4=np.array([2,4,6,8],ndmin=8)\n",
    "#ndim define the dimensions of the Array \n",
    "print(ar4)\n",
    "print(\"Dimensions of the Array :\",ar4.ndim)"
   ]
  },
  {
   "cell_type": "code",
   "execution_count": 25,
   "id": "dd4bf220",
   "metadata": {},
   "outputs": [
    {
     "name": "stdout",
     "output_type": "stream",
     "text": [
      "[[0. 0. 0. 0.]\n",
      " [0. 0. 0. 0.]]\n",
      "[[1. 1. 1.]\n",
      " [1. 1. 1.]\n",
      " [1. 1. 1.]\n",
      " [1. 1. 1.]]\n"
     ]
    }
   ],
   "source": [
    "zero=np.zeros([2,4])\n",
    "one=np.ones([4,3])\n",
    "print(zero)\n",
    "print(one)"
   ]
  },
  {
   "cell_type": "code",
   "execution_count": 35,
   "id": "5fcb5d40",
   "metadata": {},
   "outputs": [
    {
     "name": "stdout",
     "output_type": "stream",
     "text": [
      "[[4.9e-324 1.5e-323]\n",
      " [2.5e-323 9.9e-324]\n",
      " [2.0e-323 3.0e-323]]\n"
     ]
    }
   ],
   "source": [
    "ar_empty=np.empty((3,2))\n",
    "print(ar_empty)"
   ]
  },
  {
   "cell_type": "code",
   "execution_count": null,
   "id": "fd1bc709",
   "metadata": {},
   "outputs": [],
   "source": []
  }
 ],
 "metadata": {
  "kernelspec": {
   "display_name": "base",
   "language": "python",
   "name": "python3"
  },
  "language_info": {
   "codemirror_mode": {
    "name": "ipython",
    "version": 3
   },
   "file_extension": ".py",
   "mimetype": "text/x-python",
   "name": "python",
   "nbconvert_exporter": "python",
   "pygments_lexer": "ipython3",
   "version": "3.12.7"
  }
 },
 "nbformat": 4,
 "nbformat_minor": 5
}
