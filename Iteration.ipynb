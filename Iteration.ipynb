{
 "cells": [
  {
   "cell_type": "markdown",
   "id": "a1a0a5b1",
   "metadata": {},
   "source": [
    "### Iteration in Numpy Array"
   ]
  },
  {
   "cell_type": "code",
   "execution_count": null,
   "id": "755e966a",
   "metadata": {},
   "outputs": [],
   "source": []
  },
  {
   "cell_type": "code",
   "execution_count": null,
   "id": "b5abbf6c",
   "metadata": {},
   "outputs": [],
   "source": []
  },
  {
   "cell_type": "code",
   "execution_count": 2,
   "id": "b0b109ee",
   "metadata": {},
   "outputs": [
    {
     "name": "stdout",
     "output_type": "stream",
     "text": [
      "1\n",
      "2\n",
      "3\n",
      "4\n"
     ]
    }
   ],
   "source": [
    "import numpy as np\n",
    "\n",
    "# Example array\n",
    "arr = np.array([[1, 2], [3, 4]])\n",
    "\n",
    "# Iterate using nditer\n",
    "for x in np.nditer(arr):\n",
    "   print(x)"
   ]
  },
  {
   "cell_type": "code",
   "execution_count": 8,
   "id": "7cd85d5a",
   "metadata": {},
   "outputs": [
    {
     "name": "stdout",
     "output_type": "stream",
     "text": [
      "Iterating over the array:\n",
      "1 2 3 4 5 6 "
     ]
    }
   ],
   "source": [
    "arr1 = np.array([[1, 2, 3],\n",
    "                [4, 5, 6]])\n",
    "# Flat iteration using nditer with 'buffered' flag\n",
    "print(\"Iterating over the array:\")\n",
    "for x in np.nditer(arr1, flags=['buffered']):\n",
    "   print(x, end=' ')"
   ]
  },
  {
   "cell_type": "markdown",
   "id": "4b43bad5",
   "metadata": {},
   "source": []
  }
 ],
 "metadata": {
  "kernelspec": {
   "display_name": "base",
   "language": "python",
   "name": "python3"
  },
  "language_info": {
   "codemirror_mode": {
    "name": "ipython",
    "version": 3
   },
   "file_extension": ".py",
   "mimetype": "text/x-python",
   "name": "python",
   "nbconvert_exporter": "python",
   "pygments_lexer": "ipython3",
   "version": "3.12.7"
  }
 },
 "nbformat": 4,
 "nbformat_minor": 5
}
