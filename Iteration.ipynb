{
 "cells": [
  {
   "cell_type": "markdown",
   "id": "a1a0a5b1",
   "metadata": {},
   "source": [
    "### Iteration in Numpy Array"
   ]
  },
  {
   "cell_type": "code",
   "execution_count": null,
   "id": "755e966a",
   "metadata": {},
   "outputs": [],
   "source": []
  },
  {
   "cell_type": "code",
   "execution_count": null,
   "id": "b5abbf6c",
   "metadata": {},
   "outputs": [],
   "source": []
  },
  {
   "cell_type": "code",
   "execution_count": 2,
   "id": "b0b109ee",
   "metadata": {},
   "outputs": [
    {
     "name": "stdout",
     "output_type": "stream",
     "text": [
      "1\n",
      "2\n",
      "3\n",
      "4\n"
     ]
    }
   ],
   "source": [
    "import numpy as np\n",
    "\n",
    "# Example array\n",
    "arr = np.array([[1, 2], [3, 4]])\n",
    "\n",
    "# Iterate using nditer\n",
    "for x in np.nditer(arr):\n",
    "   print(x)"
   ]
  },
  {
   "cell_type": "code",
   "execution_count": null,
   "id": "7cd85d5a",
   "metadata": {},
   "outputs": [
    {
     "name": "stdout",
     "output_type": "stream",
     "text": [
      "Iterating over the array:\n",
      "1 2 3 4 5 6 "
     ]
    }
   ],
   "source": [
    "arr1 = np.array([[1, 2, 3],\n",
    "                [4, 5, 6]])\n",
    "# Flat iteration using nditer with 'buffered' flag\n",
    "print(\"Iterating over the array:\")\n",
    "for x in np.nditer(arr1, flags=['buffered']):\n",
    "   print(x, end=' ')"
   ]
  },
  {
   "cell_type": "code",
   "execution_count": null,
   "id": "9b09d626",
   "metadata": {},
   "outputs": [
    {
     "name": "stdout",
     "output_type": "stream",
     "text": [
      "np.bytes_(b'1')\n",
      "np.bytes_(b'2')\n",
      "np.bytes_(b'3')\n"
     ]
    }
   ],
   "source": [
    "# Iterating Array With Different Data Types\n",
    "arr2 = np.array([1, 2, 3])\n",
    "\n",
    "for x in np.nditer(arr2, flags=['buffered'], op_dtypes=['S']):\n",
    "  print(x)"
   ]
  },
  {
   "cell_type": "code",
   "execution_count": null,
   "id": "c1b44ede",
   "metadata": {},
   "outputs": [
    {
     "name": "stdout",
     "output_type": "stream",
     "text": [
      "1\n",
      "3\n",
      "5\n",
      "7\n"
     ]
    }
   ],
   "source": [
    "# Iterating With Different Step Size\n",
    "arr3 = np.array([[1, 2, 3, 4], [5, 6, 7, 8]])\n",
    "\n",
    "for x in np.nditer(arr3[:, ::2]):\n",
    "  print(x)"
   ]
  },
  {
   "cell_type": "code",
   "execution_count": 11,
   "id": "e8b4cf3f",
   "metadata": {},
   "outputs": [
    {
     "name": "stdout",
     "output_type": "stream",
     "text": [
      "(0,) 1\n",
      "(1,) 2\n",
      "(2,) 3\n"
     ]
    }
   ],
   "source": [
    "arr4 = np.array([1, 2, 3])\n",
    "\n",
    "for idx, x in np.ndenumerate(arr4):\n",
    "  print(idx, x)"
   ]
  },
  {
   "cell_type": "code",
   "execution_count": 13,
   "id": "7d4583bc",
   "metadata": {},
   "outputs": [
    {
     "name": "stdout",
     "output_type": "stream",
     "text": [
      "Reshaped Array:\n",
      " [[1 2 3]]\n",
      "Concatenated Array:\n",
      " [[1 2 3]\n",
      " [4 5 6]\n",
      " [7 8 9]]\n"
     ]
    }
   ],
   "source": [
    "# Create a 1D and a 2D array\n",
    "array1 = np.array([1, 2, 3])\n",
    "array2 = np.array([[4, 5, 6], [7, 8, 9]])\n",
    "\n",
    "# Reshape array1 to make it 2D for concatenation along axis 0\n",
    "array1_reshaped = array1.reshape(1, -1)\n",
    "print(\"Reshaped Array:\\n\", array1_reshaped)\n",
    "\n",
    "# Concatenate along axis 0\n",
    "result = np.concatenate((array1_reshaped, array2), axis=0)\n",
    "\n",
    "print(\"Concatenated Array:\\n\", result)"
   ]
  },
  {
   "cell_type": "code",
   "execution_count": 18,
   "id": "c1520c49",
   "metadata": {},
   "outputs": [
    {
     "name": "stdout",
     "output_type": "stream",
     "text": [
      "[array([1, 3]), array([4, 5]), array([6])]\n",
      "[1 3]\n",
      "[4 5]\n",
      "[6]\n"
     ]
    }
   ],
   "source": [
    "ar5=np.array([1,3,4,5,6])\n",
    "arnew=np.array_split(ar5, 3)\n",
    "print(arnew)\n",
    "for i in arnew:\n",
    "    print(i)\n"
   ]
  },
  {
   "cell_type": "code",
   "execution_count": null,
   "id": "4fcb54e9",
   "metadata": {},
   "outputs": [],
   "source": []
  }
 ],
 "metadata": {
  "kernelspec": {
   "display_name": "base",
   "language": "python",
   "name": "python3"
  },
  "language_info": {
   "codemirror_mode": {
    "name": "ipython",
    "version": 3
   },
   "file_extension": ".py",
   "mimetype": "text/x-python",
   "name": "python",
   "nbconvert_exporter": "python",
   "pygments_lexer": "ipython3",
   "version": "3.12.7"
  }
 },
 "nbformat": 4,
 "nbformat_minor": 5
}
