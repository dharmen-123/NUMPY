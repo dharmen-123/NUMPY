{
 "cells": [
  {
   "cell_type": "markdown",
   "id": "e0596fcd",
   "metadata": {},
   "source": [
    "## Random Number in Numpy Array"
   ]
  },
  {
   "cell_type": "markdown",
   "id": "f63299e8",
   "metadata": {},
   "source": [
    "#### 1 .rand()"
   ]
  },
  {
   "cell_type": "code",
   "execution_count": 1,
   "id": "d709816d",
   "metadata": {},
   "outputs": [
    {
     "name": "stdout",
     "output_type": "stream",
     "text": [
      "[0.96523636 0.40145197 0.03604253 0.15199142]\n"
     ]
    }
   ],
   "source": [
    "import numpy as np\n",
    "ar_r=np.random.rand(4)\n",
    "print(ar_r)"
   ]
  },
  {
   "cell_type": "markdown",
   "id": "664bfe93",
   "metadata": {},
   "source": []
  },
  {
   "cell_type": "code",
   "execution_count": null,
   "id": "e49ef8b6",
   "metadata": {},
   "outputs": [],
   "source": []
  }
 ],
 "metadata": {
  "kernelspec": {
   "display_name": "base",
   "language": "python",
   "name": "python3"
  },
  "language_info": {
   "codemirror_mode": {
    "name": "ipython",
    "version": 3
   },
   "file_extension": ".py",
   "mimetype": "text/x-python",
   "name": "python",
   "nbconvert_exporter": "python",
   "pygments_lexer": "ipython3",
   "version": "3.12.7"
  }
 },
 "nbformat": 4,
 "nbformat_minor": 5
}
