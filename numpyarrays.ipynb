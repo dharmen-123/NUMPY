{
 "cells": [
  {
   "cell_type": "markdown",
   "id": "69a2af51",
   "metadata": {},
   "source": [
    "## Numpy Arrays Using Functions"
   ]
  },
  {
   "cell_type": "code",
   "execution_count": 2,
   "id": "7ca6027b",
   "metadata": {},
   "outputs": [],
   "source": [
    "import numpy as np"
   ]
  },
  {
   "cell_type": "markdown",
   "id": "91dfbe4b",
   "metadata": {},
   "source": [
    "#### 1. Array with Zeros"
   ]
  },
  {
   "cell_type": "code",
   "execution_count": null,
   "id": "16b74f4b",
   "metadata": {},
   "outputs": [
    {
     "name": "stdout",
     "output_type": "stream",
     "text": [
      "[0. 0. 0.]\n",
      "<class 'numpy.ndarray'>\n"
     ]
    }
   ],
   "source": [
    "ar_zero=np.zeros(3)\n",
    "print(ar_zero)\n",
    "print(type(ar_zero))"
   ]
  },
  {
   "cell_type": "code",
   "execution_count": 13,
   "id": "936303b7",
   "metadata": {},
   "outputs": [
    {
     "name": "stdout",
     "output_type": "stream",
     "text": [
      "[[0. 0. 0. 0.]\n",
      " [0. 0. 0. 0.]\n",
      " [0. 0. 0. 0.]]\n"
     ]
    }
   ],
   "source": [
    "ar_z1=np.zeros([3,4])\n",
    "# ar_z1=np.zeros((3,2,3))\n",
    "print(ar_z1)"
   ]
  },
  {
   "cell_type": "markdown",
   "id": "31e90d77",
   "metadata": {},
   "source": [
    "#### 2. Array with Ones "
   ]
  },
  {
   "cell_type": "code",
   "execution_count": 22,
   "id": "6d5a53d6",
   "metadata": {},
   "outputs": [
    {
     "name": "stdout",
     "output_type": "stream",
     "text": [
      "[1. 1. 1. 1.]\n"
     ]
    }
   ],
   "source": [
    "ar_one=np.ones(4)\n",
    "print(ar_one)"
   ]
  },
  {
   "cell_type": "code",
   "execution_count": 23,
   "id": "286a4b6b",
   "metadata": {},
   "outputs": [
    {
     "name": "stdout",
     "output_type": "stream",
     "text": [
      "[ True  True  True  True]\n"
     ]
    }
   ],
   "source": [
    "ar_one1=np.ones(4,bool)\n",
    "print(ar_one1)"
   ]
  },
  {
   "cell_type": "markdown",
   "id": "11bc8902",
   "metadata": {},
   "source": [
    "#### 3. Create an Empty Array"
   ]
  },
  {
   "cell_type": "code",
   "execution_count": 28,
   "id": "6eb514f2",
   "metadata": {},
   "outputs": [
    {
     "name": "stdout",
     "output_type": "stream",
     "text": [
      "[            0 2315573750224 2315573747264 2315573747184       7143424]\n"
     ]
    }
   ],
   "source": [
    "ar_emp=np.empty(5,int)\n",
    "print(ar_emp)"
   ]
  },
  {
   "cell_type": "code",
   "execution_count": 30,
   "id": "b9691755",
   "metadata": {},
   "outputs": [
    {
     "name": "stdout",
     "output_type": "stream",
     "text": [
      "[[6.23042070e-307 3.91299992e-321 0.00000000e+000]\n",
      " [1.14402009e-311 0.00000000e+000 7.56571287e-307]]\n"
     ]
    }
   ],
   "source": [
    "ar_em=np.empty([2,3])\n",
    "print(ar_em)"
   ]
  },
  {
   "cell_type": "markdown",
   "id": "969c465e",
   "metadata": {},
   "source": [
    "#### 4. Array with range  "
   ]
  },
  {
   "cell_type": "code",
   "execution_count": 35,
   "id": "1843bf18",
   "metadata": {},
   "outputs": [
    {
     "name": "stdout",
     "output_type": "stream",
     "text": [
      "[ 1  2  3  4  5  6  7  8  9 10 11]\n"
     ]
    }
   ],
   "source": [
    "ar_r=np.arange(1,12)\n",
    "print(ar_r)"
   ]
  },
  {
   "cell_type": "markdown",
   "id": "dc2bda67",
   "metadata": {},
   "source": [
    "#### 5. Array with Diagonal Element fill with 1`s"
   ]
  },
  {
   "cell_type": "code",
   "execution_count": 54,
   "id": "d53f8ebe",
   "metadata": {},
   "outputs": [
    {
     "name": "stdout",
     "output_type": "stream",
     "text": [
      "[[0 0 1 0]\n",
      " [0 0 0 1]\n",
      " [0 0 0 0]]\n"
     ]
    }
   ],
   "source": [
    "ar_d=np.eye(3,4,2,int)\n",
    "print(ar_d)"
   ]
  },
  {
   "cell_type": "markdown",
   "id": "cb39525d",
   "metadata": {},
   "source": [
    "#### 6. Array filled with Given Value"
   ]
  },
  {
   "cell_type": "code",
   "execution_count": 3,
   "id": "61e1908b",
   "metadata": {},
   "outputs": [
    {
     "name": "stdout",
     "output_type": "stream",
     "text": [
      "[[6 6 6 6]\n",
      " [6 6 6 6]\n",
      " [6 6 6 6]]\n"
     ]
    }
   ],
   "source": [
    "ar_g=np.full((3,4),6)\n",
    "print(ar_g)"
   ]
  },
  {
   "cell_type": "code",
   "execution_count": null,
   "id": "1e234461",
   "metadata": {},
   "outputs": [],
   "source": []
  }
 ],
 "metadata": {
  "kernelspec": {
   "display_name": "base",
   "language": "python",
   "name": "python3"
  },
  "language_info": {
   "codemirror_mode": {
    "name": "ipython",
    "version": 3
   },
   "file_extension": ".py",
   "mimetype": "text/x-python",
   "name": "python",
   "nbconvert_exporter": "python",
   "pygments_lexer": "ipython3",
   "version": "3.12.7"
  }
 },
 "nbformat": 4,
 "nbformat_minor": 5
}
