{
 "cells": [
  {
   "cell_type": "markdown",
   "id": "f1f09100",
   "metadata": {},
   "source": [
    "## Arithmetic Functions"
   ]
  },
  {
   "cell_type": "markdown",
   "id": "557472e5",
   "metadata": {},
   "source": [
    "#### Addition"
   ]
  },
  {
   "cell_type": "code",
   "execution_count": 1,
   "id": "67fbbf85",
   "metadata": {},
   "outputs": [
    {
     "name": "stdout",
     "output_type": "stream",
     "text": [
      "[ 3  7 11 15]\n"
     ]
    }
   ],
   "source": [
    "import numpy as np\n",
    "var1=np.array([2,4,6,8])\n",
    "var2=np.array([1,3,5,7])\n",
    "varadd=np.add(var1,var2)\n",
    "print(varadd)"
   ]
  },
  {
   "cell_type": "markdown",
   "id": "94885364",
   "metadata": {},
   "source": [
    "#### Subtraction"
   ]
  },
  {
   "cell_type": "code",
   "execution_count": null,
   "id": "60914dd9",
   "metadata": {},
   "outputs": [
    {
     "name": "stdout",
     "output_type": "stream",
     "text": [
      "[-1 -1  5  1  1  0]\n",
      "Dimension : 1\n"
     ]
    }
   ],
   "source": [
    "s1=np.array([1,5,8,9,2,4])\n",
    "s2=np.array([2,6,3,8,1,4])\n",
    "s_sub=np.subtract(s1,s2)\n",
    "print(s_sub)\n",
    "print(\"Dimension :\",s_sub.ndim)\n",
    "\n"
   ]
  },
  {
   "cell_type": "markdown",
   "id": "52955a81",
   "metadata": {},
   "source": [
    "Multiply"
   ]
  },
  {
   "cell_type": "code",
   "execution_count": 12,
   "id": "9c7c4cbd",
   "metadata": {},
   "outputs": [
    {
     "name": "stdout",
     "output_type": "stream",
     "text": [
      "[ 2 20 18]\n",
      "Dimension :  1\n"
     ]
    }
   ],
   "source": [
    "m1=np.array([2,4,6])\n",
    "m2=np.array([1,5,3])\n",
    "# m2=np.array(4)\n",
    "m_mult=np.multiply(m1,m2)\n",
    "print(m_mult)\n",
    "print(\"Dimension : \",m_mult.ndim)"
   ]
  },
  {
   "cell_type": "markdown",
   "id": "c8b2014e",
   "metadata": {},
   "source": [
    "Divide"
   ]
  },
  {
   "cell_type": "code",
   "execution_count": 20,
   "id": "8dc3b011",
   "metadata": {},
   "outputs": [
    {
     "name": "stdout",
     "output_type": "stream",
     "text": [
      "[[2. 2. 2.]\n",
      " [2. 2. 2.]]\n",
      "DImension :  2\n"
     ]
    }
   ],
   "source": [
    "d1=np.array([[2,4,6],[6,8,10]])\n",
    "d2=np.array([[1,2,3],[3,4,5]])\n",
    "div=np.divide(d1,d2)\n",
    "print(div)\n",
    "print(\"DImension : \",div.ndim)"
   ]
  },
  {
   "cell_type": "markdown",
   "id": "0c6cb521",
   "metadata": {},
   "source": [
    "Modulus\n"
   ]
  },
  {
   "cell_type": "code",
   "execution_count": 23,
   "id": "9cf17dc0",
   "metadata": {},
   "outputs": [
    {
     "name": "stdout",
     "output_type": "stream",
     "text": [
      "[2 0 2]\n"
     ]
    }
   ],
   "source": [
    "md1=np.array([5,9,17])\n",
    "mod=np.mod(md1,3)\n",
    "print(mod)\n"
   ]
  },
  {
   "cell_type": "code",
   "execution_count": 25,
   "id": "f329ef20",
   "metadata": {},
   "outputs": [
    {
     "name": "stdout",
     "output_type": "stream",
     "text": [
      "[ 25  81 289]\n"
     ]
    }
   ],
   "source": [
    "pw1=np.array([5,9,17])\n",
    "power=np.power(pw1,2)\n",
    "print(power)"
   ]
  },
  {
   "cell_type": "code",
   "execution_count": 27,
   "id": "a9f75713",
   "metadata": {},
   "outputs": [
    {
     "name": "stdout",
     "output_type": "stream",
     "text": [
      "[1.         0.5        0.33333333]\n"
     ]
    }
   ],
   "source": [
    "r1=np.array([1,2,3],float)\n",
    "r_p=np.reciprocal(r1)\n",
    "print(r_p)"
   ]
  }
 ],
 "metadata": {
  "kernelspec": {
   "display_name": "base",
   "language": "python",
   "name": "python3"
  },
  "language_info": {
   "codemirror_mode": {
    "name": "ipython",
    "version": 3
   },
   "file_extension": ".py",
   "mimetype": "text/x-python",
   "name": "python",
   "nbconvert_exporter": "python",
   "pygments_lexer": "ipython3",
   "version": "3.12.7"
  }
 },
 "nbformat": 4,
 "nbformat_minor": 5
}
