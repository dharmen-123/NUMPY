{
 "cells": [
  {
   "cell_type": "markdown",
   "id": "27e33526",
   "metadata": {},
   "source": [
    "### JOINING & SPLITING "
   ]
  },
  {
   "cell_type": "code",
   "execution_count": null,
   "id": "54dc6a65",
   "metadata": {
    "vscode": {
     "languageId": "plaintext"
    }
   },
   "outputs": [],
   "source": []
  },
  {
   "cell_type": "markdown",
   "id": "d8cdb462",
   "metadata": {},
   "source": []
  }
 ],
 "metadata": {
  "language_info": {
   "name": "python"
  }
 },
 "nbformat": 4,
 "nbformat_minor": 5
}
