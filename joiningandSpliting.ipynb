{
 "cells": [
  {
   "cell_type": "markdown",
   "id": "27e33526",
   "metadata": {},
   "source": [
    "### JOINING & SPLITING "
   ]
  },
  {
   "cell_type": "code",
   "execution_count": 1,
   "id": "54dc6a65",
   "metadata": {},
   "outputs": [],
   "source": [
    "import numpy as np\n"
   ]
  },
  {
   "cell_type": "markdown",
   "id": "d8cdb462",
   "metadata": {},
   "source": []
  },
  {
   "cell_type": "code",
   "execution_count": 8,
   "id": "f80ba13c",
   "metadata": {},
   "outputs": [
    {
     "name": "stdout",
     "output_type": "stream",
     "text": [
      "[[1 2 3 4 2 4 6 8]\n",
      " [5 6 7 8 1 3 5 7]]\n"
     ]
    }
   ],
   "source": [
    "arr1=np.array([[1,2,3,4],[5,6,7,8]])\n",
    "arr2=np.array([[2,4,6,8],[1,3,5,7]])\n",
    "arr3=np.concatenate((arr1,arr2),axis=1)\n",
    "print(arr3)"
   ]
  },
  {
   "cell_type": "code",
   "execution_count": 20,
   "id": "dfbd3b16",
   "metadata": {},
   "outputs": [
    {
     "name": "stdout",
     "output_type": "stream",
     "text": [
      "[[[ 0  1  2  3  4]\n",
      "  [ 5  6  7  8  9]]\n",
      "\n",
      " [[10 11 12 13 14]\n",
      "  [15 16 17 18 19]]]\n",
      "[[[ 0  1  2  3  4]\n",
      "  [ 5  6  7  8  9]]\n",
      "\n",
      " [[10 11 12 13 14]\n",
      "  [15 16 17 18 19]]]\n",
      "\n",
      "Dimension of array is :  4\n",
      "[[[[ 0  1  2  3  4]\n",
      "   [ 5  6  7  8  9]]\n",
      "\n",
      "  [[ 0  1  2  3  4]\n",
      "   [ 5  6  7  8  9]]]\n",
      "\n",
      "\n",
      " [[[10 11 12 13 14]\n",
      "   [15 16 17 18 19]]\n",
      "\n",
      "  [[10 11 12 13 14]\n",
      "   [15 16 17 18 19]]]]\n"
     ]
    }
   ],
   "source": [
    "a1=np.arange(20).reshape((2,2,5))\n",
    "a2=np.arange(20).reshape((2,2,5))\n",
    "anew=np.stack((a1,a2),axis=1)\n",
    "print(a1)\n",
    "print(a2)\n",
    "print()\n",
    "print(\"Dimension of array is : \",anew.ndim)\n",
    "print(anew)\n"
   ]
  },
  {
   "cell_type": "code",
   "execution_count": 24,
   "id": "65069499",
   "metadata": {},
   "outputs": [
    {
     "name": "stdout",
     "output_type": "stream",
     "text": [
      "[[0 1 2 3 4]\n",
      " [5 6 7 8 9]]\n",
      "[[0 1 2 3 4]\n",
      " [5 6 7 8 9]]\n",
      "\n",
      "Dimension of array is :  2\n",
      "[[0 1 2 3 4]\n",
      " [5 6 7 8 9]\n",
      " [0 1 2 3 4]\n",
      " [5 6 7 8 9]]\n"
     ]
    }
   ],
   "source": [
    "a1=np.arange(10).reshape((2,5))\n",
    "a2=np.arange(10).reshape((2,5))\n",
    "anew=np.vstack((a1,a2))\n",
    "print(a1)\n",
    "print(a2)\n",
    "print()\n",
    "print(\"Dimension of array is : \",anew.ndim)\n",
    "print(anew)"
   ]
  },
  {
   "cell_type": "code",
   "execution_count": null,
   "id": "0d4f4cf2",
   "metadata": {},
   "outputs": [],
   "source": []
  }
 ],
 "metadata": {
  "kernelspec": {
   "display_name": "base",
   "language": "python",
   "name": "python3"
  },
  "language_info": {
   "codemirror_mode": {
    "name": "ipython",
    "version": 3
   },
   "file_extension": ".py",
   "mimetype": "text/x-python",
   "name": "python",
   "nbconvert_exporter": "python",
   "pygments_lexer": "ipython3",
   "version": "3.12.7"
  }
 },
 "nbformat": 4,
 "nbformat_minor": 5
}
