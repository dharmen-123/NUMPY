{
 "cells": [
  {
   "cell_type": "code",
   "execution_count": 2,
   "id": "baff1b9c",
   "metadata": {},
   "outputs": [
    {
     "name": "stdout",
     "output_type": "stream",
     "text": [
      "Numpy import successfully\n"
     ]
    }
   ],
   "source": [
    "import numpy as np\n",
    "print(\"Numpy import successfully\")"
   ]
  },
  {
   "cell_type": "code",
   "execution_count": 3,
   "id": "97224bf4",
   "metadata": {},
   "outputs": [
    {
     "name": "stdout",
     "output_type": "stream",
     "text": [
      "2\n",
      "(3, 3)\n",
      "[100 200 300 400 500 600 700 800 900]\n",
      "[100 500 900]\n",
      "900\n",
      "[[100 200 300]]\n",
      "[[100]]\n",
      "600\n",
      "500.0\n",
      "4500\n"
     ]
    }
   ],
   "source": [
    "test=np.array([[100,200,300],[400,500,600],[700,800,900]])\n",
    "print(test.ndim)\n",
    "print(test.shape)\n",
    "print(test.flatten())\n",
    "print(np.diagonal(test))\n",
    "print(np.max(test))\n",
    "print(test[0:1])\n",
    "print(test[0:1,0:1])\n",
    "print(test[1][2])\n",
    "print(np.mean(test))\n",
    "print(np.sum(test))"
   ]
  },
  {
   "cell_type": "code",
   "execution_count": null,
   "id": "df07eb66",
   "metadata": {},
   "outputs": [],
   "source": []
  }
 ],
 "metadata": {
  "kernelspec": {
   "display_name": "base",
   "language": "python",
   "name": "python3"
  },
  "language_info": {
   "codemirror_mode": {
    "name": "ipython",
    "version": 3
   },
   "file_extension": ".py",
   "mimetype": "text/x-python",
   "name": "python",
   "nbconvert_exporter": "python",
   "pygments_lexer": "ipython3",
   "version": "3.12.7"
  }
 },
 "nbformat": 4,
 "nbformat_minor": 5
}
